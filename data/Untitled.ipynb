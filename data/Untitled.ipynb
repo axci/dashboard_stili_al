{
 "cells": [
  {
   "cell_type": "code",
   "execution_count": 11,
   "id": "3a165b9a-e5ec-4ff2-b4ad-cd6e52b6a1b7",
   "metadata": {
    "tags": []
   },
   "outputs": [],
   "source": [
    "import pandas as pd\n",
    "import numpy as np\n",
    "import altair as alt\n",
    "import plotly.graph_objects as go\n",
    "\n",
    "# Constants\n",
    "BLUE = '#006BA2'\n",
    "CYAN = '#3EBCD2'\n",
    "GREEN = '#379A8B'\n",
    "YELLOW = '#EBB434'\n",
    "OLIVE = '#B4BA39'\n",
    "PURPLE = '#9A607F'\n",
    "RED = '#DB444B'\n",
    "GOLD = '#D1B07C'\n",
    "GREY =  '#758D99'\n",
    "BLUE_LIGHT = '#98DAFF'\n",
    "BLUE_DARK = '#00588D'\n",
    "CYAN_LIGHT = '#6FE4FB'\n",
    "CYAN_DARK = '#005F73'\n",
    "GREEN_LIGHT = '#86E5D4'\n",
    "GREEN_DARK = '#005F52'\n",
    "YELLOW_LIGHT = '#FFCB4D'\n",
    "YELLOW_DARK = '#714C00'\n",
    "OLIVE_LIGHT = '#D7DB5A'\n",
    "OLIVE_DARK = '#4C5900'\n",
    "PURPLE_LIGHT = '#FFC2E3'\n",
    "PURPLE_DARK = '#78405F'\n",
    "RED_LIGHT = '#FFA39F'\n",
    "RED_DARK = '#A81829'\n",
    "GOLDLIGHT = '#F2CF9A'\n",
    "GOLD_DARK = '#674E1F'"
   ]
  },
  {
   "cell_type": "code",
   "execution_count": 3,
   "id": "cd5d1009-71f1-4c8c-a758-26348bdc4071",
   "metadata": {
    "tags": []
   },
   "outputs": [],
   "source": [
    "df = pd.read_csv('stili_al.csv')"
   ]
  },
  {
   "cell_type": "markdown",
   "id": "c922e084-3a29-4ab0-90a8-5f68cb0469bf",
   "metadata": {},
   "source": [
    "### Functions"
   ]
  },
  {
   "cell_type": "code",
   "execution_count": 98,
   "id": "223af5ad-4d99-4426-9bab-805b57525106",
   "metadata": {
    "tags": []
   },
   "outputs": [],
   "source": [
    "def group_df(df, metric: str) -> pd.Series:\n",
    "    # group for a bar chart\n",
    "    s = (df\n",
    "            .groupby(metric)\n",
    "            .count()\n",
    "        ).country.sort_values()\n",
    "    return s\n",
    "\n",
    "\n",
    "\n",
    "\n",
    "def make_bars_plotly(input_color, s: pd.Series, fixed_order_flag_freq=False, fixed_order_flag_camb=False, width=800, height=600):\n",
    "    \n",
    "    color_map = {\n",
    "        'blue': BLUE,\n",
    "        'cyan': CYAN,\n",
    "        'green': GREEN,\n",
    "        'yellow': YELLOW,\n",
    "        'red': RED,\n",
    "        'olive': OLIVE,\n",
    "        'purple': PURPLE,\n",
    "        'gold': GOLD\n",
    "    }\n",
    "    chart_color = color_map.get(input_color, 'blue')  # Default to blue if color not found\n",
    "  \n",
    "    # Fixed order for the bars\n",
    "    if fixed_order_flag_freq:\n",
    "        fixed_order = [\n",
    "        'Tutti i giorni o quasi', '2-3 volte a settimana', '1 volta a settimana', \n",
    "        '2-3 volte al mese', '1 volta al mese', \"4-5 volte all’anno\", \n",
    "        'Più raramente', 'Mai'\n",
    "        ][::-1]\n",
    "        s = s.reindex(fixed_order)\n",
    "\n",
    "    if fixed_order_flag_camb:\n",
    "        fixed_order = [\n",
    "            \"Molto aumentato\", \"Un po’ aumentato\", \"Uguale\",\n",
    "            \"Un po’ diminuito\", \"Molto diminuito\"\n",
    "        ][::-1]\n",
    "        s = s.reindex(fixed_order)\n",
    "        \n",
    "\n",
    "\n",
    "\n",
    "    # Calculate percentages\n",
    "    total = s.sum()\n",
    "    percentages = (s / total * 100).round(1).astype(str) + '%'\n",
    "\n",
    "    fig = go.Figure(go.Bar(\n",
    "        x=s.values,\n",
    "        y=s.index,\n",
    "        orientation='h',\n",
    "        marker=dict(color=chart_color),\n",
    "        text=percentages,\n",
    "        textposition='auto',\n",
    "    ))\n",
    "\n",
    "    # Update layout for a cleaner look\n",
    "    fig.update_layout(\n",
    "        #title=title,\n",
    "        xaxis=dict(\n",
    "            showticklabels=True,\n",
    "            showgrid=True,\n",
    "            tickangle=0,\n",
    "            titlefont=dict(size=12),\n",
    "            title_standoff=25\n",
    "        ),\n",
    "        yaxis=dict(\n",
    "            showgrid=False,\n",
    "            showline=False,\n",
    "            linecolor='black'\n",
    "        ),\n",
    "        plot_bgcolor='white',\n",
    "        showlegend=False,\n",
    "        width=width,\n",
    "        height=height,\n",
    "    )\n",
    "\n",
    "    fig.update_yaxes(tickfont=dict(size=12), tickmode='array', tickvals=list(s.index))\n",
    "    fig.update_xaxes(tickfont=dict(size=12))\n",
    "\n",
    "    return fig"
   ]
  },
  {
   "cell_type": "code",
   "execution_count": 99,
   "id": "658808ce-6478-448d-be96-fe9646230323",
   "metadata": {
    "tags": []
   },
   "outputs": [
    {
     "data": {
      "application/vnd.plotly.v1+json": {
       "config": {
        "plotlyServerURL": "https://plot.ly"
       },
       "data": [
        {
         "marker": {
          "color": "#006BA2"
         },
         "orientation": "h",
         "text": [
          "0.6%",
          "2.3%",
          "3.9%",
          "4.6%",
          "4.6%",
          "5.2%",
          "5.9%",
          "6.3%",
          "7.1%",
          "8.1%",
          "8.2%",
          "13.0%",
          "30.0%"
         ],
         "textposition": "auto",
         "type": "bar",
         "x": [
          24,
          92,
          157,
          185,
          186,
          209,
          235,
          252,
          285,
          324,
          329,
          520,
          1202
         ],
         "y": [
          "ESTETIZZANTI",
          "ETICISTI",
          "SREGOLATI",
          "LOCALIVORI",
          "ESSENZIALISTI",
          "EDONISTI",
          "ESTEROFILI",
          "Nessuno di questi",
          "INDUSTRIARIANI",
          "SALUBRISTI",
          "RISTORIANI",
          "SALUTISTI",
          "TERRITORIALISTI"
         ]
        }
       ],
       "layout": {
        "height": 600,
        "plot_bgcolor": "white",
        "showlegend": false,
        "template": {
         "data": {
          "bar": [
           {
            "error_x": {
             "color": "#2a3f5f"
            },
            "error_y": {
             "color": "#2a3f5f"
            },
            "marker": {
             "line": {
              "color": "#E5ECF6",
              "width": 0.5
             },
             "pattern": {
              "fillmode": "overlay",
              "size": 10,
              "solidity": 0.2
             }
            },
            "type": "bar"
           }
          ],
          "barpolar": [
           {
            "marker": {
             "line": {
              "color": "#E5ECF6",
              "width": 0.5
             },
             "pattern": {
              "fillmode": "overlay",
              "size": 10,
              "solidity": 0.2
             }
            },
            "type": "barpolar"
           }
          ],
          "carpet": [
           {
            "aaxis": {
             "endlinecolor": "#2a3f5f",
             "gridcolor": "white",
             "linecolor": "white",
             "minorgridcolor": "white",
             "startlinecolor": "#2a3f5f"
            },
            "baxis": {
             "endlinecolor": "#2a3f5f",
             "gridcolor": "white",
             "linecolor": "white",
             "minorgridcolor": "white",
             "startlinecolor": "#2a3f5f"
            },
            "type": "carpet"
           }
          ],
          "choropleth": [
           {
            "colorbar": {
             "outlinewidth": 0,
             "ticks": ""
            },
            "type": "choropleth"
           }
          ],
          "contour": [
           {
            "colorbar": {
             "outlinewidth": 0,
             "ticks": ""
            },
            "colorscale": [
             [
              0,
              "#0d0887"
             ],
             [
              0.1111111111111111,
              "#46039f"
             ],
             [
              0.2222222222222222,
              "#7201a8"
             ],
             [
              0.3333333333333333,
              "#9c179e"
             ],
             [
              0.4444444444444444,
              "#bd3786"
             ],
             [
              0.5555555555555556,
              "#d8576b"
             ],
             [
              0.6666666666666666,
              "#ed7953"
             ],
             [
              0.7777777777777778,
              "#fb9f3a"
             ],
             [
              0.8888888888888888,
              "#fdca26"
             ],
             [
              1,
              "#f0f921"
             ]
            ],
            "type": "contour"
           }
          ],
          "contourcarpet": [
           {
            "colorbar": {
             "outlinewidth": 0,
             "ticks": ""
            },
            "type": "contourcarpet"
           }
          ],
          "heatmap": [
           {
            "colorbar": {
             "outlinewidth": 0,
             "ticks": ""
            },
            "colorscale": [
             [
              0,
              "#0d0887"
             ],
             [
              0.1111111111111111,
              "#46039f"
             ],
             [
              0.2222222222222222,
              "#7201a8"
             ],
             [
              0.3333333333333333,
              "#9c179e"
             ],
             [
              0.4444444444444444,
              "#bd3786"
             ],
             [
              0.5555555555555556,
              "#d8576b"
             ],
             [
              0.6666666666666666,
              "#ed7953"
             ],
             [
              0.7777777777777778,
              "#fb9f3a"
             ],
             [
              0.8888888888888888,
              "#fdca26"
             ],
             [
              1,
              "#f0f921"
             ]
            ],
            "type": "heatmap"
           }
          ],
          "heatmapgl": [
           {
            "colorbar": {
             "outlinewidth": 0,
             "ticks": ""
            },
            "colorscale": [
             [
              0,
              "#0d0887"
             ],
             [
              0.1111111111111111,
              "#46039f"
             ],
             [
              0.2222222222222222,
              "#7201a8"
             ],
             [
              0.3333333333333333,
              "#9c179e"
             ],
             [
              0.4444444444444444,
              "#bd3786"
             ],
             [
              0.5555555555555556,
              "#d8576b"
             ],
             [
              0.6666666666666666,
              "#ed7953"
             ],
             [
              0.7777777777777778,
              "#fb9f3a"
             ],
             [
              0.8888888888888888,
              "#fdca26"
             ],
             [
              1,
              "#f0f921"
             ]
            ],
            "type": "heatmapgl"
           }
          ],
          "histogram": [
           {
            "marker": {
             "pattern": {
              "fillmode": "overlay",
              "size": 10,
              "solidity": 0.2
             }
            },
            "type": "histogram"
           }
          ],
          "histogram2d": [
           {
            "colorbar": {
             "outlinewidth": 0,
             "ticks": ""
            },
            "colorscale": [
             [
              0,
              "#0d0887"
             ],
             [
              0.1111111111111111,
              "#46039f"
             ],
             [
              0.2222222222222222,
              "#7201a8"
             ],
             [
              0.3333333333333333,
              "#9c179e"
             ],
             [
              0.4444444444444444,
              "#bd3786"
             ],
             [
              0.5555555555555556,
              "#d8576b"
             ],
             [
              0.6666666666666666,
              "#ed7953"
             ],
             [
              0.7777777777777778,
              "#fb9f3a"
             ],
             [
              0.8888888888888888,
              "#fdca26"
             ],
             [
              1,
              "#f0f921"
             ]
            ],
            "type": "histogram2d"
           }
          ],
          "histogram2dcontour": [
           {
            "colorbar": {
             "outlinewidth": 0,
             "ticks": ""
            },
            "colorscale": [
             [
              0,
              "#0d0887"
             ],
             [
              0.1111111111111111,
              "#46039f"
             ],
             [
              0.2222222222222222,
              "#7201a8"
             ],
             [
              0.3333333333333333,
              "#9c179e"
             ],
             [
              0.4444444444444444,
              "#bd3786"
             ],
             [
              0.5555555555555556,
              "#d8576b"
             ],
             [
              0.6666666666666666,
              "#ed7953"
             ],
             [
              0.7777777777777778,
              "#fb9f3a"
             ],
             [
              0.8888888888888888,
              "#fdca26"
             ],
             [
              1,
              "#f0f921"
             ]
            ],
            "type": "histogram2dcontour"
           }
          ],
          "mesh3d": [
           {
            "colorbar": {
             "outlinewidth": 0,
             "ticks": ""
            },
            "type": "mesh3d"
           }
          ],
          "parcoords": [
           {
            "line": {
             "colorbar": {
              "outlinewidth": 0,
              "ticks": ""
             }
            },
            "type": "parcoords"
           }
          ],
          "pie": [
           {
            "automargin": true,
            "type": "pie"
           }
          ],
          "scatter": [
           {
            "fillpattern": {
             "fillmode": "overlay",
             "size": 10,
             "solidity": 0.2
            },
            "type": "scatter"
           }
          ],
          "scatter3d": [
           {
            "line": {
             "colorbar": {
              "outlinewidth": 0,
              "ticks": ""
             }
            },
            "marker": {
             "colorbar": {
              "outlinewidth": 0,
              "ticks": ""
             }
            },
            "type": "scatter3d"
           }
          ],
          "scattercarpet": [
           {
            "marker": {
             "colorbar": {
              "outlinewidth": 0,
              "ticks": ""
             }
            },
            "type": "scattercarpet"
           }
          ],
          "scattergeo": [
           {
            "marker": {
             "colorbar": {
              "outlinewidth": 0,
              "ticks": ""
             }
            },
            "type": "scattergeo"
           }
          ],
          "scattergl": [
           {
            "marker": {
             "colorbar": {
              "outlinewidth": 0,
              "ticks": ""
             }
            },
            "type": "scattergl"
           }
          ],
          "scattermapbox": [
           {
            "marker": {
             "colorbar": {
              "outlinewidth": 0,
              "ticks": ""
             }
            },
            "type": "scattermapbox"
           }
          ],
          "scatterpolar": [
           {
            "marker": {
             "colorbar": {
              "outlinewidth": 0,
              "ticks": ""
             }
            },
            "type": "scatterpolar"
           }
          ],
          "scatterpolargl": [
           {
            "marker": {
             "colorbar": {
              "outlinewidth": 0,
              "ticks": ""
             }
            },
            "type": "scatterpolargl"
           }
          ],
          "scatterternary": [
           {
            "marker": {
             "colorbar": {
              "outlinewidth": 0,
              "ticks": ""
             }
            },
            "type": "scatterternary"
           }
          ],
          "surface": [
           {
            "colorbar": {
             "outlinewidth": 0,
             "ticks": ""
            },
            "colorscale": [
             [
              0,
              "#0d0887"
             ],
             [
              0.1111111111111111,
              "#46039f"
             ],
             [
              0.2222222222222222,
              "#7201a8"
             ],
             [
              0.3333333333333333,
              "#9c179e"
             ],
             [
              0.4444444444444444,
              "#bd3786"
             ],
             [
              0.5555555555555556,
              "#d8576b"
             ],
             [
              0.6666666666666666,
              "#ed7953"
             ],
             [
              0.7777777777777778,
              "#fb9f3a"
             ],
             [
              0.8888888888888888,
              "#fdca26"
             ],
             [
              1,
              "#f0f921"
             ]
            ],
            "type": "surface"
           }
          ],
          "table": [
           {
            "cells": {
             "fill": {
              "color": "#EBF0F8"
             },
             "line": {
              "color": "white"
             }
            },
            "header": {
             "fill": {
              "color": "#C8D4E3"
             },
             "line": {
              "color": "white"
             }
            },
            "type": "table"
           }
          ]
         },
         "layout": {
          "annotationdefaults": {
           "arrowcolor": "#2a3f5f",
           "arrowhead": 0,
           "arrowwidth": 1
          },
          "autotypenumbers": "strict",
          "coloraxis": {
           "colorbar": {
            "outlinewidth": 0,
            "ticks": ""
           }
          },
          "colorscale": {
           "diverging": [
            [
             0,
             "#8e0152"
            ],
            [
             0.1,
             "#c51b7d"
            ],
            [
             0.2,
             "#de77ae"
            ],
            [
             0.3,
             "#f1b6da"
            ],
            [
             0.4,
             "#fde0ef"
            ],
            [
             0.5,
             "#f7f7f7"
            ],
            [
             0.6,
             "#e6f5d0"
            ],
            [
             0.7,
             "#b8e186"
            ],
            [
             0.8,
             "#7fbc41"
            ],
            [
             0.9,
             "#4d9221"
            ],
            [
             1,
             "#276419"
            ]
           ],
           "sequential": [
            [
             0,
             "#0d0887"
            ],
            [
             0.1111111111111111,
             "#46039f"
            ],
            [
             0.2222222222222222,
             "#7201a8"
            ],
            [
             0.3333333333333333,
             "#9c179e"
            ],
            [
             0.4444444444444444,
             "#bd3786"
            ],
            [
             0.5555555555555556,
             "#d8576b"
            ],
            [
             0.6666666666666666,
             "#ed7953"
            ],
            [
             0.7777777777777778,
             "#fb9f3a"
            ],
            [
             0.8888888888888888,
             "#fdca26"
            ],
            [
             1,
             "#f0f921"
            ]
           ],
           "sequentialminus": [
            [
             0,
             "#0d0887"
            ],
            [
             0.1111111111111111,
             "#46039f"
            ],
            [
             0.2222222222222222,
             "#7201a8"
            ],
            [
             0.3333333333333333,
             "#9c179e"
            ],
            [
             0.4444444444444444,
             "#bd3786"
            ],
            [
             0.5555555555555556,
             "#d8576b"
            ],
            [
             0.6666666666666666,
             "#ed7953"
            ],
            [
             0.7777777777777778,
             "#fb9f3a"
            ],
            [
             0.8888888888888888,
             "#fdca26"
            ],
            [
             1,
             "#f0f921"
            ]
           ]
          },
          "colorway": [
           "#636efa",
           "#EF553B",
           "#00cc96",
           "#ab63fa",
           "#FFA15A",
           "#19d3f3",
           "#FF6692",
           "#B6E880",
           "#FF97FF",
           "#FECB52"
          ],
          "font": {
           "color": "#2a3f5f"
          },
          "geo": {
           "bgcolor": "white",
           "lakecolor": "white",
           "landcolor": "#E5ECF6",
           "showlakes": true,
           "showland": true,
           "subunitcolor": "white"
          },
          "hoverlabel": {
           "align": "left"
          },
          "hovermode": "closest",
          "mapbox": {
           "style": "light"
          },
          "paper_bgcolor": "white",
          "plot_bgcolor": "#E5ECF6",
          "polar": {
           "angularaxis": {
            "gridcolor": "white",
            "linecolor": "white",
            "ticks": ""
           },
           "bgcolor": "#E5ECF6",
           "radialaxis": {
            "gridcolor": "white",
            "linecolor": "white",
            "ticks": ""
           }
          },
          "scene": {
           "xaxis": {
            "backgroundcolor": "#E5ECF6",
            "gridcolor": "white",
            "gridwidth": 2,
            "linecolor": "white",
            "showbackground": true,
            "ticks": "",
            "zerolinecolor": "white"
           },
           "yaxis": {
            "backgroundcolor": "#E5ECF6",
            "gridcolor": "white",
            "gridwidth": 2,
            "linecolor": "white",
            "showbackground": true,
            "ticks": "",
            "zerolinecolor": "white"
           },
           "zaxis": {
            "backgroundcolor": "#E5ECF6",
            "gridcolor": "white",
            "gridwidth": 2,
            "linecolor": "white",
            "showbackground": true,
            "ticks": "",
            "zerolinecolor": "white"
           }
          },
          "shapedefaults": {
           "line": {
            "color": "#2a3f5f"
           }
          },
          "ternary": {
           "aaxis": {
            "gridcolor": "white",
            "linecolor": "white",
            "ticks": ""
           },
           "baxis": {
            "gridcolor": "white",
            "linecolor": "white",
            "ticks": ""
           },
           "bgcolor": "#E5ECF6",
           "caxis": {
            "gridcolor": "white",
            "linecolor": "white",
            "ticks": ""
           }
          },
          "title": {
           "x": 0.05
          },
          "xaxis": {
           "automargin": true,
           "gridcolor": "white",
           "linecolor": "white",
           "ticks": "",
           "title": {
            "standoff": 15
           },
           "zerolinecolor": "white",
           "zerolinewidth": 2
          },
          "yaxis": {
           "automargin": true,
           "gridcolor": "white",
           "linecolor": "white",
           "ticks": "",
           "title": {
            "standoff": 15
           },
           "zerolinecolor": "white",
           "zerolinewidth": 2
          }
         }
        },
        "width": 800,
        "xaxis": {
         "autorange": true,
         "range": [
          0,
          1265.2631578947369
         ],
         "showgrid": true,
         "showticklabels": true,
         "tickangle": 0,
         "tickfont": {
          "size": 12
         },
         "title": {
          "font": {
           "size": 12
          },
          "standoff": 25
         },
         "type": "linear"
        },
        "yaxis": {
         "autorange": true,
         "linecolor": "black",
         "range": [
          -0.5,
          12.5
         ],
         "showgrid": false,
         "showline": false,
         "tickfont": {
          "size": 12
         },
         "tickmode": "array",
         "tickvals": [
          "ESTETIZZANTI",
          "ETICISTI",
          "SREGOLATI",
          "LOCALIVORI",
          "ESSENZIALISTI",
          "EDONISTI",
          "ESTEROFILI",
          "Nessuno di questi",
          "INDUSTRIARIANI",
          "SALUBRISTI",
          "RISTORIANI",
          "SALUTISTI",
          "TERRITORIALISTI"
         ],
         "type": "category"
        }
       }
      },
      "image/png": "[encoded data removed]",
      "text/html": [
       "<div>                            <div id=\"711db170-d202-4974-a419-43dc9b227ba9\" class=\"plotly-graph-div\" style=\"height:600px; width:800px;\"></div>            <script type=\"text/javascript\">                require([\"plotly\"], function(Plotly) {                    window.PLOTLYENV=window.PLOTLYENV || {};                                    if (document.getElementById(\"711db170-d202-4974-a419-43dc9b227ba9\")) {                    Plotly.newPlot(                        \"711db170-d202-4974-a419-43dc9b227ba9\",                        [{\"marker\":{\"color\":\"#006BA2\"},\"orientation\":\"h\",\"text\":[\"0.6%\",\"2.3%\",\"3.9%\",\"4.6%\",\"4.6%\",\"5.2%\",\"5.9%\",\"6.3%\",\"7.1%\",\"8.1%\",\"8.2%\",\"13.0%\",\"30.0%\"],\"textposition\":\"auto\",\"x\":[24,92,157,185,186,209,235,252,285,324,329,520,1202],\"y\":[\"ESTETIZZANTI\",\"ETICISTI\",\"SREGOLATI\",\"LOCALIVORI\",\"ESSENZIALISTI\",\"EDONISTI\",\"ESTEROFILI\",\"Nessuno di questi\",\"INDUSTRIARIANI\",\"SALUBRISTI\",\"RISTORIANI\",\"SALUTISTI\",\"TERRITORIALISTI\"],\"type\":\"bar\"}],                        {\"template\":{\"data\":{\"histogram2dcontour\":[{\"type\":\"histogram2dcontour\",\"colorbar\":{\"outlinewidth\":0,\"ticks\":\"\"},\"colorscale\":[[0.0,\"#0d0887\"],[0.1111111111111111,\"#46039f\"],[0.2222222222222222,\"#7201a8\"],[0.3333333333333333,\"#9c179e\"],[0.4444444444444444,\"#bd3786\"],[0.5555555555555556,\"#d8576b\"],[0.6666666666666666,\"#ed7953\"],[0.7777777777777778,\"#fb9f3a\"],[0.8888888888888888,\"#fdca26\"],[1.0,\"#f0f921\"]]}],\"choropleth\":[{\"type\":\"choropleth\",\"colorbar\":{\"outlinewidth\":0,\"ticks\":\"\"}}],\"histogram2d\":[{\"type\":\"histogram2d\",\"colorbar\":{\"outlinewidth\":0,\"ticks\":\"\"},\"colorscale\":[[0.0,\"#0d0887\"],[0.1111111111111111,\"#46039f\"],[0.2222222222222222,\"#7201a8\"],[0.3333333333333333,\"#9c179e\"],[0.4444444444444444,\"#bd3786\"],[0.5555555555555556,\"#d8576b\"],[0.6666666666666666,\"#ed7953\"],[0.7777777777777778,\"#fb9f3a\"],[0.8888888888888888,\"#fdca26\"],[1.0,\"#f0f921\"]]}],\"heatmap\":[{\"type\":\"heatmap\",\"colorbar\":{\"outlinewidth\":0,\"ticks\":\"\"},\"colorscale\":[[0.0,\"#0d0887\"],[0.1111111111111111,\"#46039f\"],[0.2222222222222222,\"#7201a8\"],[0.3333333333333333,\"#9c179e\"],[0.4444444444444444,\"#bd3786\"],[0.5555555555555556,\"#d8576b\"],[0.6666666666666666,\"#ed7953\"],[0.7777777777777778,\"#fb9f3a\"],[0.8888888888888888,\"#fdca26\"],[1.0,\"#f0f921\"]]}],\"heatmapgl\":[{\"type\":\"heatmapgl\",\"colorbar\":{\"outlinewidth\":0,\"ticks\":\"\"},\"colorscale\":[[0.0,\"#0d0887\"],[0.1111111111111111,\"#46039f\"],[0.2222222222222222,\"#7201a8\"],[0.3333333333333333,\"#9c179e\"],[0.4444444444444444,\"#bd3786\"],[0.5555555555555556,\"#d8576b\"],[0.6666666666666666,\"#ed7953\"],[0.7777777777777778,\"#fb9f3a\"],[0.8888888888888888,\"#fdca26\"],[1.0,\"#f0f921\"]]}],\"contourcarpet\":[{\"type\":\"contourcarpet\",\"colorbar\":{\"outlinewidth\":0,\"ticks\":\"\"}}],\"contour\":[{\"type\":\"contour\",\"colorbar\":{\"outlinewidth\":0,\"ticks\":\"\"},\"colorscale\":[[0.0,\"#0d0887\"],[0.1111111111111111,\"#46039f\"],[0.2222222222222222,\"#7201a8\"],[0.3333333333333333,\"#9c179e\"],[0.4444444444444444,\"#bd3786\"],[0.5555555555555556,\"#d8576b\"],[0.6666666666666666,\"#ed7953\"],[0.7777777777777778,\"#fb9f3a\"],[0.8888888888888888,\"#fdca26\"],[1.0,\"#f0f921\"]]}],\"surface\":[{\"type\":\"surface\",\"colorbar\":{\"outlinewidth\":0,\"ticks\":\"\"},\"colorscale\":[[0.0,\"#0d0887\"],[0.1111111111111111,\"#46039f\"],[0.2222222222222222,\"#7201a8\"],[0.3333333333333333,\"#9c179e\"],[0.4444444444444444,\"#bd3786\"],[0.5555555555555556,\"#d8576b\"],[0.6666666666666666,\"#ed7953\"],[0.7777777777777778,\"#fb9f3a\"],[0.8888888888888888,\"#fdca26\"],[1.0,\"#f0f921\"]]}],\"mesh3d\":[{\"type\":\"mesh3d\",\"colorbar\":{\"outlinewidth\":0,\"ticks\":\"\"}}],\"scatter\":[{\"fillpattern\":{\"fillmode\":\"overlay\",\"size\":10,\"solidity\":0.2},\"type\":\"scatter\"}],\"parcoords\":[{\"type\":\"parcoords\",\"line\":{\"colorbar\":{\"outlinewidth\":0,\"ticks\":\"\"}}}],\"scatterpolargl\":[{\"type\":\"scatterpolargl\",\"marker\":{\"colorbar\":{\"outlinewidth\":0,\"ticks\":\"\"}}}],\"bar\":[{\"error_x\":{\"color\":\"#2a3f5f\"},\"error_y\":{\"color\":\"#2a3f5f\"},\"marker\":{\"line\":{\"color\":\"#E5ECF6\",\"width\":0.5},\"pattern\":{\"fillmode\":\"overlay\",\"size\":10,\"solidity\":0.2}},\"type\":\"bar\"}],\"scattergeo\":[{\"type\":\"scattergeo\",\"marker\":{\"colorbar\":{\"outlinewidth\":0,\"ticks\":\"\"}}}],\"scatterpolar\":[{\"type\":\"scatterpolar\",\"marker\":{\"colorbar\":{\"outlinewidth\":0,\"ticks\":\"\"}}}],\"histogram\":[{\"marker\":{\"pattern\":{\"fillmode\":\"overlay\",\"size\":10,\"solidity\":0.2}},\"type\":\"histogram\"}],\"scattergl\":[{\"type\":\"scattergl\",\"marker\":{\"colorbar\":{\"outlinewidth\":0,\"ticks\":\"\"}}}],\"scatter3d\":[{\"type\":\"scatter3d\",\"line\":{\"colorbar\":{\"outlinewidth\":0,\"ticks\":\"\"}},\"marker\":{\"colorbar\":{\"outlinewidth\":0,\"ticks\":\"\"}}}],\"scattermapbox\":[{\"type\":\"scattermapbox\",\"marker\":{\"colorbar\":{\"outlinewidth\":0,\"ticks\":\"\"}}}],\"scatterternary\":[{\"type\":\"scatterternary\",\"marker\":{\"colorbar\":{\"outlinewidth\":0,\"ticks\":\"\"}}}],\"scattercarpet\":[{\"type\":\"scattercarpet\",\"marker\":{\"colorbar\":{\"outlinewidth\":0,\"ticks\":\"\"}}}],\"carpet\":[{\"aaxis\":{\"endlinecolor\":\"#2a3f5f\",\"gridcolor\":\"white\",\"linecolor\":\"white\",\"minorgridcolor\":\"white\",\"startlinecolor\":\"#2a3f5f\"},\"baxis\":{\"endlinecolor\":\"#2a3f5f\",\"gridcolor\":\"white\",\"linecolor\":\"white\",\"minorgridcolor\":\"white\",\"startlinecolor\":\"#2a3f5f\"},\"type\":\"carpet\"}],\"table\":[{\"cells\":{\"fill\":{\"color\":\"#EBF0F8\"},\"line\":{\"color\":\"white\"}},\"header\":{\"fill\":{\"color\":\"#C8D4E3\"},\"line\":{\"color\":\"white\"}},\"type\":\"table\"}],\"barpolar\":[{\"marker\":{\"line\":{\"color\":\"#E5ECF6\",\"width\":0.5},\"pattern\":{\"fillmode\":\"overlay\",\"size\":10,\"solidity\":0.2}},\"type\":\"barpolar\"}],\"pie\":[{\"automargin\":true,\"type\":\"pie\"}]},\"layout\":{\"autotypenumbers\":\"strict\",\"colorway\":[\"#636efa\",\"#EF553B\",\"#00cc96\",\"#ab63fa\",\"#FFA15A\",\"#19d3f3\",\"#FF6692\",\"#B6E880\",\"#FF97FF\",\"#FECB52\"],\"font\":{\"color\":\"#2a3f5f\"},\"hovermode\":\"closest\",\"hoverlabel\":{\"align\":\"left\"},\"paper_bgcolor\":\"white\",\"plot_bgcolor\":\"#E5ECF6\",\"polar\":{\"bgcolor\":\"#E5ECF6\",\"angularaxis\":{\"gridcolor\":\"white\",\"linecolor\":\"white\",\"ticks\":\"\"},\"radialaxis\":{\"gridcolor\":\"white\",\"linecolor\":\"white\",\"ticks\":\"\"}},\"ternary\":{\"bgcolor\":\"#E5ECF6\",\"aaxis\":{\"gridcolor\":\"white\",\"linecolor\":\"white\",\"ticks\":\"\"},\"baxis\":{\"gridcolor\":\"white\",\"linecolor\":\"white\",\"ticks\":\"\"},\"caxis\":{\"gridcolor\":\"white\",\"linecolor\":\"white\",\"ticks\":\"\"}},\"coloraxis\":{\"colorbar\":{\"outlinewidth\":0,\"ticks\":\"\"}},\"colorscale\":{\"sequential\":[[0.0,\"#0d0887\"],[0.1111111111111111,\"#46039f\"],[0.2222222222222222,\"#7201a8\"],[0.3333333333333333,\"#9c179e\"],[0.4444444444444444,\"#bd3786\"],[0.5555555555555556,\"#d8576b\"],[0.6666666666666666,\"#ed7953\"],[0.7777777777777778,\"#fb9f3a\"],[0.8888888888888888,\"#fdca26\"],[1.0,\"#f0f921\"]],\"sequentialminus\":[[0.0,\"#0d0887\"],[0.1111111111111111,\"#46039f\"],[0.2222222222222222,\"#7201a8\"],[0.3333333333333333,\"#9c179e\"],[0.4444444444444444,\"#bd3786\"],[0.5555555555555556,\"#d8576b\"],[0.6666666666666666,\"#ed7953\"],[0.7777777777777778,\"#fb9f3a\"],[0.8888888888888888,\"#fdca26\"],[1.0,\"#f0f921\"]],\"diverging\":[[0,\"#8e0152\"],[0.1,\"#c51b7d\"],[0.2,\"#de77ae\"],[0.3,\"#f1b6da\"],[0.4,\"#fde0ef\"],[0.5,\"#f7f7f7\"],[0.6,\"#e6f5d0\"],[0.7,\"#b8e186\"],[0.8,\"#7fbc41\"],[0.9,\"#4d9221\"],[1,\"#276419\"]]},\"xaxis\":{\"gridcolor\":\"white\",\"linecolor\":\"white\",\"ticks\":\"\",\"title\":{\"standoff\":15},\"zerolinecolor\":\"white\",\"automargin\":true,\"zerolinewidth\":2},\"yaxis\":{\"gridcolor\":\"white\",\"linecolor\":\"white\",\"ticks\":\"\",\"title\":{\"standoff\":15},\"zerolinecolor\":\"white\",\"automargin\":true,\"zerolinewidth\":2},\"scene\":{\"xaxis\":{\"backgroundcolor\":\"#E5ECF6\",\"gridcolor\":\"white\",\"linecolor\":\"white\",\"showbackground\":true,\"ticks\":\"\",\"zerolinecolor\":\"white\",\"gridwidth\":2},\"yaxis\":{\"backgroundcolor\":\"#E5ECF6\",\"gridcolor\":\"white\",\"linecolor\":\"white\",\"showbackground\":true,\"ticks\":\"\",\"zerolinecolor\":\"white\",\"gridwidth\":2},\"zaxis\":{\"backgroundcolor\":\"#E5ECF6\",\"gridcolor\":\"white\",\"linecolor\":\"white\",\"showbackground\":true,\"ticks\":\"\",\"zerolinecolor\":\"white\",\"gridwidth\":2}},\"shapedefaults\":{\"line\":{\"color\":\"#2a3f5f\"}},\"annotationdefaults\":{\"arrowcolor\":\"#2a3f5f\",\"arrowhead\":0,\"arrowwidth\":1},\"geo\":{\"bgcolor\":\"white\",\"landcolor\":\"#E5ECF6\",\"subunitcolor\":\"white\",\"showland\":true,\"showlakes\":true,\"lakecolor\":\"white\"},\"title\":{\"x\":0.05},\"mapbox\":{\"style\":\"light\"}}},\"xaxis\":{\"title\":{\"font\":{\"size\":12},\"standoff\":25},\"showticklabels\":true,\"showgrid\":true,\"tickangle\":0,\"tickfont\":{\"size\":12}},\"yaxis\":{\"showgrid\":false,\"showline\":false,\"linecolor\":\"black\",\"tickfont\":{\"size\":12},\"tickmode\":\"array\",\"tickvals\":[\"ESTETIZZANTI\",\"ETICISTI\",\"SREGOLATI\",\"LOCALIVORI\",\"ESSENZIALISTI\",\"EDONISTI\",\"ESTEROFILI\",\"Nessuno di questi\",\"INDUSTRIARIANI\",\"SALUBRISTI\",\"RISTORIANI\",\"SALUTISTI\",\"TERRITORIALISTI\"]},\"plot_bgcolor\":\"white\",\"showlegend\":false,\"width\":800,\"height\":600},                        {\"responsive\": true}                    ).then(function(){\n",
       "                            \n",
       "var gd = document.getElementById('711db170-d202-4974-a419-43dc9b227ba9');\n",
       "var x = new MutationObserver(function (mutations, observer) {{\n",
       "        var display = window.getComputedStyle(gd).display;\n",
       "        if (!display || display === 'none') {{\n",
       "            console.log([gd, 'removed!']);\n",
       "            Plotly.purge(gd);\n",
       "            observer.disconnect();\n",
       "        }}\n",
       "}});\n",
       "\n",
       "// Listen for the removal of the full notebook cells\n",
       "var notebookContainer = gd.closest('#notebook-container');\n",
       "if (notebookContainer) {{\n",
       "    x.observe(notebookContainer, {childList: true});\n",
       "}}\n",
       "\n",
       "// Listen for the clearing of the current output cell\n",
       "var outputEl = gd.closest('.output');\n",
       "if (outputEl) {{\n",
       "    x.observe(outputEl, {childList: true});\n",
       "}}\n",
       "\n",
       "                        })                };                });            </script>        </div>"
      ]
     },
     "metadata": {},
     "output_type": "display_data"
    }
   ],
   "source": [
    "selected_color_theme = 'blue'\n",
    "selected_country = 'Italia'\n",
    "df_filtered = df.query('country == @selected_country')\n",
    "selected_metric = 'stile'\n",
    "metric_series = group_df(df_filtered, selected_metric)\n",
    "fig = make_bars_plotly(selected_color_theme, metric_series, fixed_order_flag_freq=False)\n",
    "fig"
   ]
  },
  {
   "cell_type": "code",
   "execution_count": 132,
   "id": "f994fe21-e846-4dbb-9f41-4eb4d99ed771",
   "metadata": {
    "tags": []
   },
   "outputs": [
    {
     "data": {
      "text/html": [
       "<div>\n",
       "<style scoped>\n",
       "    .dataframe tbody tr th:only-of-type {\n",
       "        vertical-align: middle;\n",
       "    }\n",
       "\n",
       "    .dataframe tbody tr th {\n",
       "        vertical-align: top;\n",
       "    }\n",
       "\n",
       "    .dataframe thead th {\n",
       "        text-align: right;\n",
       "    }\n",
       "</style>\n",
       "<table border=\"1\" class=\"dataframe\">\n",
       "  <thead>\n",
       "    <tr style=\"text-align: right;\">\n",
       "      <th></th>\n",
       "      <th>id__</th>\n",
       "      <th>country</th>\n",
       "      <th>regio</th>\n",
       "      <th>s3</th>\n",
       "      <th>anni</th>\n",
       "      <th>area</th>\n",
       "      <th>s5</th>\n",
       "      <th>q3ter</th>\n",
       "      <th>q4__4</th>\n",
       "      <th>q4__5</th>\n",
       "      <th>...</th>\n",
       "      <th>q4__10</th>\n",
       "      <th>q5__4</th>\n",
       "      <th>q5__5</th>\n",
       "      <th>q5__6</th>\n",
       "      <th>q5__7</th>\n",
       "      <th>q5__8</th>\n",
       "      <th>q5__9</th>\n",
       "      <th>q5__10</th>\n",
       "      <th>eta</th>\n",
       "      <th>stile</th>\n",
       "    </tr>\n",
       "  </thead>\n",
       "  <tbody>\n",
       "    <tr>\n",
       "      <th>0</th>\n",
       "      <td>33</td>\n",
       "      <td>Italia</td>\n",
       "      <td>Lombardia</td>\n",
       "      <td>Maschio</td>\n",
       "      <td>55</td>\n",
       "      <td>Nord Ovest</td>\n",
       "      <td>Solo io</td>\n",
       "      <td>LOCALIVORI: danno priorità ai prodotti km0 e a...</td>\n",
       "      <td>4-5 volte all’anno</td>\n",
       "      <td>4-5 volte all’anno</td>\n",
       "      <td>...</td>\n",
       "      <td>Più raramente</td>\n",
       "      <td>Uguale</td>\n",
       "      <td>Uguale</td>\n",
       "      <td>Uguale</td>\n",
       "      <td>Uguale</td>\n",
       "      <td>Uguale</td>\n",
       "      <td>Uguale</td>\n",
       "      <td>Uguale</td>\n",
       "      <td>55-64</td>\n",
       "      <td>LOCALIVORI</td>\n",
       "    </tr>\n",
       "    <tr>\n",
       "      <th>1</th>\n",
       "      <td>34</td>\n",
       "      <td>Italia</td>\n",
       "      <td>Puglia</td>\n",
       "      <td>Maschio</td>\n",
       "      <td>23</td>\n",
       "      <td>Sud e Isole</td>\n",
       "      <td>Solo io</td>\n",
       "      <td>SALUTISTI: sono molto attenti a un’alimentazio...</td>\n",
       "      <td>1 volta al mese</td>\n",
       "      <td>1 volta al mese</td>\n",
       "      <td>...</td>\n",
       "      <td>1 volta al mese</td>\n",
       "      <td>Uguale</td>\n",
       "      <td>Uguale</td>\n",
       "      <td>Un po’ aumentato</td>\n",
       "      <td>Uguale</td>\n",
       "      <td>Uguale</td>\n",
       "      <td>Uguale</td>\n",
       "      <td>Uguale</td>\n",
       "      <td>20-24</td>\n",
       "      <td>SALUTISTI</td>\n",
       "    </tr>\n",
       "    <tr>\n",
       "      <th>2</th>\n",
       "      <td>35</td>\n",
       "      <td>Italia</td>\n",
       "      <td>Liguria</td>\n",
       "      <td>Maschio</td>\n",
       "      <td>23</td>\n",
       "      <td>Nord Ovest</td>\n",
       "      <td>Soprattutto io</td>\n",
       "      <td>EDONISTI: persone che ricercano l’esperienza g...</td>\n",
       "      <td>2-3 volte al mese</td>\n",
       "      <td>1 volta al mese</td>\n",
       "      <td>...</td>\n",
       "      <td>2-3 volte al mese</td>\n",
       "      <td>Uguale</td>\n",
       "      <td>Un po’ aumentato</td>\n",
       "      <td>Uguale</td>\n",
       "      <td>Uguale</td>\n",
       "      <td>Uguale</td>\n",
       "      <td>Un po’ aumentato</td>\n",
       "      <td>Uguale</td>\n",
       "      <td>20-24</td>\n",
       "      <td>EDONISTI</td>\n",
       "    </tr>\n",
       "    <tr>\n",
       "      <th>3</th>\n",
       "      <td>36</td>\n",
       "      <td>Italia</td>\n",
       "      <td>Abruzzo</td>\n",
       "      <td>Femmina</td>\n",
       "      <td>60</td>\n",
       "      <td>Sud e Isole</td>\n",
       "      <td>Soprattutto io</td>\n",
       "      <td>Nessuno di questi</td>\n",
       "      <td>2-3 volte a settimana</td>\n",
       "      <td>2-3 volte a settimana</td>\n",
       "      <td>...</td>\n",
       "      <td>2-3 volte a settimana</td>\n",
       "      <td>Molto aumentato</td>\n",
       "      <td>Molto aumentato</td>\n",
       "      <td>Molto aumentato</td>\n",
       "      <td>Molto aumentato</td>\n",
       "      <td>Molto aumentato</td>\n",
       "      <td>Molto aumentato</td>\n",
       "      <td>Molto aumentato</td>\n",
       "      <td>55-64</td>\n",
       "      <td>Nessuno di questi</td>\n",
       "    </tr>\n",
       "    <tr>\n",
       "      <th>4</th>\n",
       "      <td>37</td>\n",
       "      <td>Italia</td>\n",
       "      <td>Friuli Venezia Giulia</td>\n",
       "      <td>Maschio</td>\n",
       "      <td>24</td>\n",
       "      <td>Nord Est</td>\n",
       "      <td>Soprattutto io</td>\n",
       "      <td>TERRITORIALISTI: consumano spesso a casa piatt...</td>\n",
       "      <td>1 volta a settimana</td>\n",
       "      <td>1 volta a settimana</td>\n",
       "      <td>...</td>\n",
       "      <td>1 volta a settimana</td>\n",
       "      <td>Uguale</td>\n",
       "      <td>Uguale</td>\n",
       "      <td>Uguale</td>\n",
       "      <td>Uguale</td>\n",
       "      <td>Uguale</td>\n",
       "      <td>Uguale</td>\n",
       "      <td>Uguale</td>\n",
       "      <td>20-24</td>\n",
       "      <td>TERRITORIALISTI</td>\n",
       "    </tr>\n",
       "    <tr>\n",
       "      <th>...</th>\n",
       "      <td>...</td>\n",
       "      <td>...</td>\n",
       "      <td>...</td>\n",
       "      <td>...</td>\n",
       "      <td>...</td>\n",
       "      <td>...</td>\n",
       "      <td>...</td>\n",
       "      <td>...</td>\n",
       "      <td>...</td>\n",
       "      <td>...</td>\n",
       "      <td>...</td>\n",
       "      <td>...</td>\n",
       "      <td>...</td>\n",
       "      <td>...</td>\n",
       "      <td>...</td>\n",
       "      <td>...</td>\n",
       "      <td>...</td>\n",
       "      <td>...</td>\n",
       "      <td>...</td>\n",
       "      <td>...</td>\n",
       "      <td>...</td>\n",
       "    </tr>\n",
       "    <tr>\n",
       "      <th>8011</th>\n",
       "      <td>3890</td>\n",
       "      <td>USA</td>\n",
       "      <td>Mountain (Arizona, Colorado, Idaho, Montana, N...</td>\n",
       "      <td>Maschio</td>\n",
       "      <td>52</td>\n",
       "      <td>NaN</td>\n",
       "      <td>Solo io</td>\n",
       "      <td>Nessuno di questi</td>\n",
       "      <td>1 volta al mese</td>\n",
       "      <td>2-3 volte al mese</td>\n",
       "      <td>...</td>\n",
       "      <td>2-3 volte al mese</td>\n",
       "      <td>Uguale</td>\n",
       "      <td>Uguale</td>\n",
       "      <td>Uguale</td>\n",
       "      <td>Uguale</td>\n",
       "      <td>Uguale</td>\n",
       "      <td>Uguale</td>\n",
       "      <td>Uguale</td>\n",
       "      <td>45-54</td>\n",
       "      <td>Nessuno di questi</td>\n",
       "    </tr>\n",
       "    <tr>\n",
       "      <th>8012</th>\n",
       "      <td>3891</td>\n",
       "      <td>USA</td>\n",
       "      <td>Pacific (Alaska, California, Hawaii, Oregon, a...</td>\n",
       "      <td>Maschio</td>\n",
       "      <td>46</td>\n",
       "      <td>NaN</td>\n",
       "      <td>Solo io</td>\n",
       "      <td>SALUTISTI: sono molto attenti a un’alimentazio...</td>\n",
       "      <td>2-3 volte al mese</td>\n",
       "      <td>2-3 volte al mese</td>\n",
       "      <td>...</td>\n",
       "      <td>2-3 volte al mese</td>\n",
       "      <td>Uguale</td>\n",
       "      <td>Uguale</td>\n",
       "      <td>Un po’ diminuito</td>\n",
       "      <td>Molto aumentato</td>\n",
       "      <td>Un po’ aumentato</td>\n",
       "      <td>Un po’ aumentato</td>\n",
       "      <td>Molto diminuito</td>\n",
       "      <td>45-54</td>\n",
       "      <td>SALUTISTI</td>\n",
       "    </tr>\n",
       "    <tr>\n",
       "      <th>8013</th>\n",
       "      <td>3907</td>\n",
       "      <td>USA</td>\n",
       "      <td>West North Central (Iowa, Kansas, Minnesota, M...</td>\n",
       "      <td>Maschio</td>\n",
       "      <td>47</td>\n",
       "      <td>NaN</td>\n",
       "      <td>Solo io</td>\n",
       "      <td>SALUTISTI: sono molto attenti a un’alimentazio...</td>\n",
       "      <td>1 volta a settimana</td>\n",
       "      <td>1 volta al mese</td>\n",
       "      <td>...</td>\n",
       "      <td>1 volta a settimana</td>\n",
       "      <td>Uguale</td>\n",
       "      <td>Un po’ diminuito</td>\n",
       "      <td>Un po’ aumentato</td>\n",
       "      <td>Uguale</td>\n",
       "      <td>Un po’ aumentato</td>\n",
       "      <td>Un po’ diminuito</td>\n",
       "      <td>Un po’ aumentato</td>\n",
       "      <td>45-54</td>\n",
       "      <td>SALUTISTI</td>\n",
       "    </tr>\n",
       "    <tr>\n",
       "      <th>8014</th>\n",
       "      <td>3912</td>\n",
       "      <td>USA</td>\n",
       "      <td>West North Central (Iowa, Kansas, Minnesota, M...</td>\n",
       "      <td>Maschio</td>\n",
       "      <td>45</td>\n",
       "      <td>NaN</td>\n",
       "      <td>Soprattutto io</td>\n",
       "      <td>RISTORIANI: consumano molto frequentemente in ...</td>\n",
       "      <td>Più raramente</td>\n",
       "      <td>Più raramente</td>\n",
       "      <td>...</td>\n",
       "      <td>2-3 volte al mese</td>\n",
       "      <td>Uguale</td>\n",
       "      <td>Uguale</td>\n",
       "      <td>Molto diminuito</td>\n",
       "      <td>Uguale</td>\n",
       "      <td>Uguale</td>\n",
       "      <td>Uguale</td>\n",
       "      <td>Un po’ diminuito</td>\n",
       "      <td>45-54</td>\n",
       "      <td>RISTORIANI</td>\n",
       "    </tr>\n",
       "    <tr>\n",
       "      <th>8015</th>\n",
       "      <td>3928</td>\n",
       "      <td>USA</td>\n",
       "      <td>West North Central (Iowa, Kansas, Minnesota, M...</td>\n",
       "      <td>Maschio</td>\n",
       "      <td>45</td>\n",
       "      <td>NaN</td>\n",
       "      <td>Solo io</td>\n",
       "      <td>RISTORIANI: consumano molto frequentemente in ...</td>\n",
       "      <td>Tutti i giorni o quasi</td>\n",
       "      <td>Tutti i giorni o quasi</td>\n",
       "      <td>...</td>\n",
       "      <td>2-3 volte a settimana</td>\n",
       "      <td>Un po’ aumentato</td>\n",
       "      <td>Molto aumentato</td>\n",
       "      <td>Molto aumentato</td>\n",
       "      <td>Un po’ aumentato</td>\n",
       "      <td>Un po’ aumentato</td>\n",
       "      <td>Molto aumentato</td>\n",
       "      <td>Un po’ aumentato</td>\n",
       "      <td>45-54</td>\n",
       "      <td>RISTORIANI</td>\n",
       "    </tr>\n",
       "  </tbody>\n",
       "</table>\n",
       "<p>7015 rows × 24 columns</p>\n",
       "</div>"
      ],
      "text/plain": [
       "      id__ country                                              regio  \\\n",
       "0       33  Italia                                          Lombardia   \n",
       "1       34  Italia                                             Puglia   \n",
       "2       35  Italia                                            Liguria   \n",
       "3       36  Italia                                            Abruzzo   \n",
       "4       37  Italia                              Friuli Venezia Giulia   \n",
       "...    ...     ...                                                ...   \n",
       "8011  3890     USA  Mountain (Arizona, Colorado, Idaho, Montana, N...   \n",
       "8012  3891     USA  Pacific (Alaska, California, Hawaii, Oregon, a...   \n",
       "8013  3907     USA  West North Central (Iowa, Kansas, Minnesota, M...   \n",
       "8014  3912     USA  West North Central (Iowa, Kansas, Minnesota, M...   \n",
       "8015  3928     USA  West North Central (Iowa, Kansas, Minnesota, M...   \n",
       "\n",
       "           s3  anni         area              s5  \\\n",
       "0     Maschio    55   Nord Ovest         Solo io   \n",
       "1     Maschio    23  Sud e Isole         Solo io   \n",
       "2     Maschio    23   Nord Ovest  Soprattutto io   \n",
       "3     Femmina    60  Sud e Isole  Soprattutto io   \n",
       "4     Maschio    24     Nord Est  Soprattutto io   \n",
       "...       ...   ...          ...             ...   \n",
       "8011  Maschio    52          NaN         Solo io   \n",
       "8012  Maschio    46          NaN         Solo io   \n",
       "8013  Maschio    47          NaN         Solo io   \n",
       "8014  Maschio    45          NaN  Soprattutto io   \n",
       "8015  Maschio    45          NaN         Solo io   \n",
       "\n",
       "                                                  q3ter  \\\n",
       "0     LOCALIVORI: danno priorità ai prodotti km0 e a...   \n",
       "1     SALUTISTI: sono molto attenti a un’alimentazio...   \n",
       "2     EDONISTI: persone che ricercano l’esperienza g...   \n",
       "3                                     Nessuno di questi   \n",
       "4     TERRITORIALISTI: consumano spesso a casa piatt...   \n",
       "...                                                 ...   \n",
       "8011                                  Nessuno di questi   \n",
       "8012  SALUTISTI: sono molto attenti a un’alimentazio...   \n",
       "8013  SALUTISTI: sono molto attenti a un’alimentazio...   \n",
       "8014  RISTORIANI: consumano molto frequentemente in ...   \n",
       "8015  RISTORIANI: consumano molto frequentemente in ...   \n",
       "\n",
       "                       q4__4                   q4__5  ...  \\\n",
       "0         4-5 volte all’anno      4-5 volte all’anno  ...   \n",
       "1            1 volta al mese         1 volta al mese  ...   \n",
       "2          2-3 volte al mese         1 volta al mese  ...   \n",
       "3      2-3 volte a settimana   2-3 volte a settimana  ...   \n",
       "4        1 volta a settimana     1 volta a settimana  ...   \n",
       "...                      ...                     ...  ...   \n",
       "8011         1 volta al mese       2-3 volte al mese  ...   \n",
       "8012       2-3 volte al mese       2-3 volte al mese  ...   \n",
       "8013     1 volta a settimana         1 volta al mese  ...   \n",
       "8014           Più raramente           Più raramente  ...   \n",
       "8015  Tutti i giorni o quasi  Tutti i giorni o quasi  ...   \n",
       "\n",
       "                     q4__10             q5__4             q5__5  \\\n",
       "0             Più raramente            Uguale            Uguale   \n",
       "1           1 volta al mese            Uguale            Uguale   \n",
       "2         2-3 volte al mese            Uguale  Un po’ aumentato   \n",
       "3     2-3 volte a settimana   Molto aumentato   Molto aumentato   \n",
       "4       1 volta a settimana            Uguale            Uguale   \n",
       "...                     ...               ...               ...   \n",
       "8011      2-3 volte al mese            Uguale            Uguale   \n",
       "8012      2-3 volte al mese            Uguale            Uguale   \n",
       "8013    1 volta a settimana            Uguale  Un po’ diminuito   \n",
       "8014      2-3 volte al mese            Uguale            Uguale   \n",
       "8015  2-3 volte a settimana  Un po’ aumentato   Molto aumentato   \n",
       "\n",
       "                 q5__6             q5__7             q5__8             q5__9  \\\n",
       "0               Uguale            Uguale            Uguale            Uguale   \n",
       "1     Un po’ aumentato            Uguale            Uguale            Uguale   \n",
       "2               Uguale            Uguale            Uguale  Un po’ aumentato   \n",
       "3      Molto aumentato   Molto aumentato   Molto aumentato   Molto aumentato   \n",
       "4               Uguale            Uguale            Uguale            Uguale   \n",
       "...                ...               ...               ...               ...   \n",
       "8011            Uguale            Uguale            Uguale            Uguale   \n",
       "8012  Un po’ diminuito   Molto aumentato  Un po’ aumentato  Un po’ aumentato   \n",
       "8013  Un po’ aumentato            Uguale  Un po’ aumentato  Un po’ diminuito   \n",
       "8014   Molto diminuito            Uguale            Uguale            Uguale   \n",
       "8015   Molto aumentato  Un po’ aumentato  Un po’ aumentato   Molto aumentato   \n",
       "\n",
       "                q5__10    eta              stile  \n",
       "0               Uguale  55-64         LOCALIVORI  \n",
       "1               Uguale  20-24          SALUTISTI  \n",
       "2               Uguale  20-24           EDONISTI  \n",
       "3      Molto aumentato  55-64  Nessuno di questi  \n",
       "4               Uguale  20-24    TERRITORIALISTI  \n",
       "...                ...    ...                ...  \n",
       "8011            Uguale  45-54  Nessuno di questi  \n",
       "8012   Molto diminuito  45-54          SALUTISTI  \n",
       "8013  Un po’ aumentato  45-54          SALUTISTI  \n",
       "8014  Un po’ diminuito  45-54         RISTORIANI  \n",
       "8015  Un po’ aumentato  45-54         RISTORIANI  \n",
       "\n",
       "[7015 rows x 24 columns]"
      ]
     },
     "execution_count": 132,
     "metadata": {},
     "output_type": "execute_result"
    }
   ],
   "source": [
    "df_filtered"
   ]
  },
  {
   "cell_type": "code",
   "execution_count": 160,
   "id": "a0407ca6-a626-485d-b240-c1f74e9c4c54",
   "metadata": {
    "tags": []
   },
   "outputs": [
    {
     "data": {
      "text/plain": [
       "country  stile            \n",
       "USA      LOCALIVORI             20\n",
       "         ESTETIZZANTI           22\n",
       "Italia   ESTETIZZANTI           24\n",
       "USA      ETICISTI               32\n",
       "         SALUBRISTI             61\n",
       "         EDONISTI               84\n",
       "Italia   ETICISTI               92\n",
       "USA      ESSENZIALISTI         130\n",
       "         ESTEROFILI            136\n",
       "         SREGOLATI             146\n",
       "Italia   SREGOLATI             157\n",
       "USA      Nessuno di questi     165\n",
       "Italia   LOCALIVORI            185\n",
       "         ESSENZIALISTI         186\n",
       "         EDONISTI              209\n",
       "USA      TERRITORIALISTI       229\n",
       "Italia   ESTEROFILI            235\n",
       "         Nessuno di questi     252\n",
       "         INDUSTRIARIANI        285\n",
       "USA      SALUTISTI             290\n",
       "         INDUSTRIARIANI        291\n",
       "Italia   SALUBRISTI            324\n",
       "         RISTORIANI            329\n",
       "USA      RISTORIANI            408\n",
       "Italia   SALUTISTI             520\n",
       "         TERRITORIALISTI      1202\n",
       "Name: country, dtype: int64"
      ]
     },
     "execution_count": 160,
     "metadata": {},
     "output_type": "execute_result"
    }
   ],
   "source": [
    "selected_countries = ['Italia', 'USA', ]\n",
    "#selected_countries = ['Italia']\n",
    "df_filtered = df.query('country in @selected_countries')\n",
    "grouped = df_filtered.groupby(['country', 'stile']).country.count().sort_values()\n",
    "\n",
    "\n",
    "grouped"
   ]
  },
  {
   "cell_type": "code",
   "execution_count": 163,
   "id": "49960aee-6893-45b8-b1e6-270a766be4af",
   "metadata": {
    "tags": []
   },
   "outputs": [],
   "source": [
    "def make_bars_plotly(input_color, s: pd.Series, width=800, height=600):\n",
    "    \n",
    "    color_map = {\n",
    "        'blue': BLUE,\n",
    "        'cyan': CYAN,\n",
    "        'green': GREEN,\n",
    "        'yellow': YELLOW,\n",
    "        'red': RED,\n",
    "        'olive': OLIVE,\n",
    "        'purple': PURPLE,\n",
    "        'gold': GOLD\n",
    "    }\n",
    "    chart_color = color_map.get(input_color, 'blue')  # Default to blue if color not found\n",
    "    country_colors = {'Italia': OLIVE, 'Germania': YELLOW, 'Francia': BLUE, 'USA': RED }\n",
    "    \n",
    "    # Calculate percentages\n",
    "    #total = s.sum()\n",
    "    #percentages = (s / total * 100).round(1).astype(str) + '%'\n",
    "    \n",
    "    fig = go.Figure()\n",
    "    \n",
    "    for country in s.index.levels[0]:\n",
    "        country_data = s[country]\n",
    "        country_total = country_data.sum()\n",
    "        country_percentages = (country_data / country_total * 100).round(2)\n",
    "        \n",
    "        #country_percentages = percentages[country].values\n",
    "        fig.add_trace(go.Bar(\n",
    "            x=country_percentages.values,\n",
    "            y=country_data.index,\n",
    "            orientation='h',\n",
    "            marker=dict(color=country_colors[country]),\n",
    "            text=country_percentages.apply(lambda x: f'{x}%'),\n",
    "            textposition='auto',\n",
    "            name=country  # If you want a legend indicating each country\n",
    "        ))\n",
    "\n",
    "    # Update layout for a cleaner look\n",
    "    fig.update_layout(\n",
    "        #title=title,\n",
    "        xaxis=dict(\n",
    "            showticklabels=True,\n",
    "            showgrid=True,\n",
    "            tickangle=0,\n",
    "            titlefont=dict(size=12),\n",
    "            title_standoff=25\n",
    "        ),\n",
    "        yaxis=dict(\n",
    "            showgrid=False,\n",
    "            showline=False,\n",
    "            linecolor='black'\n",
    "        ),\n",
    "        plot_bgcolor='white',\n",
    "        showlegend=True,\n",
    "        width=width,\n",
    "        height=height,\n",
    "    )\n",
    "\n",
    "    #fig.update_yaxes(tickfont=dict(size=12), tickmode='array', tickvals=list(s.index))\n",
    "    #fig.update_xaxes(tickfont=dict(size=12))\n",
    "\n",
    "    return fig"
   ]
  },
  {
   "cell_type": "code",
   "execution_count": 164,
   "id": "fd4a2b9c-f349-46ac-854d-a294d09ef27e",
   "metadata": {
    "tags": []
   },
   "outputs": [
    {
     "data": {
      "application/vnd.plotly.v1+json": {
       "config": {
        "plotlyServerURL": "https://plot.ly"
       },
       "data": [
        {
         "marker": {
          "color": "#B4BA39"
         },
         "name": "Italia",
         "orientation": "h",
         "text": [
          "0.6%",
          "2.3%",
          "3.92%",
          "4.62%",
          "4.65%",
          "5.22%",
          "5.88%",
          "6.3%",
          "7.12%",
          "8.1%",
          "8.22%",
          "13.0%",
          "30.05%"
         ],
         "textposition": "auto",
         "type": "bar",
         "x": [
          0.6,
          2.3,
          3.92,
          4.62,
          4.65,
          5.22,
          5.88,
          6.3,
          7.12,
          8.1,
          8.22,
          13,
          30.05
         ],
         "y": [
          "ESTETIZZANTI",
          "ETICISTI",
          "SREGOLATI",
          "LOCALIVORI",
          "ESSENZIALISTI",
          "EDONISTI",
          "ESTEROFILI",
          "Nessuno di questi",
          "INDUSTRIARIANI",
          "SALUBRISTI",
          "RISTORIANI",
          "SALUTISTI",
          "TERRITORIALISTI"
         ]
        },
        {
         "marker": {
          "color": "#DB444B"
         },
         "name": "USA",
         "orientation": "h",
         "text": [
          "0.99%",
          "1.09%",
          "1.59%",
          "3.03%",
          "4.17%",
          "6.45%",
          "6.75%",
          "7.25%",
          "8.19%",
          "11.37%",
          "14.4%",
          "14.45%",
          "20.26%"
         ],
         "textposition": "auto",
         "type": "bar",
         "x": [
          0.99,
          1.09,
          1.59,
          3.03,
          4.17,
          6.45,
          6.75,
          7.25,
          8.19,
          11.37,
          14.4,
          14.45,
          20.26
         ],
         "y": [
          "LOCALIVORI",
          "ESTETIZZANTI",
          "ETICISTI",
          "SALUBRISTI",
          "EDONISTI",
          "ESSENZIALISTI",
          "ESTEROFILI",
          "SREGOLATI",
          "Nessuno di questi",
          "TERRITORIALISTI",
          "SALUTISTI",
          "INDUSTRIARIANI",
          "RISTORIANI"
         ]
        }
       ],
       "layout": {
        "height": 600,
        "plot_bgcolor": "white",
        "showlegend": true,
        "template": {
         "data": {
          "bar": [
           {
            "error_x": {
             "color": "#2a3f5f"
            },
            "error_y": {
             "color": "#2a3f5f"
            },
            "marker": {
             "line": {
              "color": "#E5ECF6",
              "width": 0.5
             },
             "pattern": {
              "fillmode": "overlay",
              "size": 10,
              "solidity": 0.2
             }
            },
            "type": "bar"
           }
          ],
          "barpolar": [
           {
            "marker": {
             "line": {
              "color": "#E5ECF6",
              "width": 0.5
             },
             "pattern": {
              "fillmode": "overlay",
              "size": 10,
              "solidity": 0.2
             }
            },
            "type": "barpolar"
           }
          ],
          "carpet": [
           {
            "aaxis": {
             "endlinecolor": "#2a3f5f",
             "gridcolor": "white",
             "linecolor": "white",
             "minorgridcolor": "white",
             "startlinecolor": "#2a3f5f"
            },
            "baxis": {
             "endlinecolor": "#2a3f5f",
             "gridcolor": "white",
             "linecolor": "white",
             "minorgridcolor": "white",
             "startlinecolor": "#2a3f5f"
            },
            "type": "carpet"
           }
          ],
          "choropleth": [
           {
            "colorbar": {
             "outlinewidth": 0,
             "ticks": ""
            },
            "type": "choropleth"
           }
          ],
          "contour": [
           {
            "colorbar": {
             "outlinewidth": 0,
             "ticks": ""
            },
            "colorscale": [
             [
              0,
              "#0d0887"
             ],
             [
              0.1111111111111111,
              "#46039f"
             ],
             [
              0.2222222222222222,
              "#7201a8"
             ],
             [
              0.3333333333333333,
              "#9c179e"
             ],
             [
              0.4444444444444444,
              "#bd3786"
             ],
             [
              0.5555555555555556,
              "#d8576b"
             ],
             [
              0.6666666666666666,
              "#ed7953"
             ],
             [
              0.7777777777777778,
              "#fb9f3a"
             ],
             [
              0.8888888888888888,
              "#fdca26"
             ],
             [
              1,
              "#f0f921"
             ]
            ],
            "type": "contour"
           }
          ],
          "contourcarpet": [
           {
            "colorbar": {
             "outlinewidth": 0,
             "ticks": ""
            },
            "type": "contourcarpet"
           }
          ],
          "heatmap": [
           {
            "colorbar": {
             "outlinewidth": 0,
             "ticks": ""
            },
            "colorscale": [
             [
              0,
              "#0d0887"
             ],
             [
              0.1111111111111111,
              "#46039f"
             ],
             [
              0.2222222222222222,
              "#7201a8"
             ],
             [
              0.3333333333333333,
              "#9c179e"
             ],
             [
              0.4444444444444444,
              "#bd3786"
             ],
             [
              0.5555555555555556,
              "#d8576b"
             ],
             [
              0.6666666666666666,
              "#ed7953"
             ],
             [
              0.7777777777777778,
              "#fb9f3a"
             ],
             [
              0.8888888888888888,
              "#fdca26"
             ],
             [
              1,
              "#f0f921"
             ]
            ],
            "type": "heatmap"
           }
          ],
          "heatmapgl": [
           {
            "colorbar": {
             "outlinewidth": 0,
             "ticks": ""
            },
            "colorscale": [
             [
              0,
              "#0d0887"
             ],
             [
              0.1111111111111111,
              "#46039f"
             ],
             [
              0.2222222222222222,
              "#7201a8"
             ],
             [
              0.3333333333333333,
              "#9c179e"
             ],
             [
              0.4444444444444444,
              "#bd3786"
             ],
             [
              0.5555555555555556,
              "#d8576b"
             ],
             [
              0.6666666666666666,
              "#ed7953"
             ],
             [
              0.7777777777777778,
              "#fb9f3a"
             ],
             [
              0.8888888888888888,
              "#fdca26"
             ],
             [
              1,
              "#f0f921"
             ]
            ],
            "type": "heatmapgl"
           }
          ],
          "histogram": [
           {
            "marker": {
             "pattern": {
              "fillmode": "overlay",
              "size": 10,
              "solidity": 0.2
             }
            },
            "type": "histogram"
           }
          ],
          "histogram2d": [
           {
            "colorbar": {
             "outlinewidth": 0,
             "ticks": ""
            },
            "colorscale": [
             [
              0,
              "#0d0887"
             ],
             [
              0.1111111111111111,
              "#46039f"
             ],
             [
              0.2222222222222222,
              "#7201a8"
             ],
             [
              0.3333333333333333,
              "#9c179e"
             ],
             [
              0.4444444444444444,
              "#bd3786"
             ],
             [
              0.5555555555555556,
              "#d8576b"
             ],
             [
              0.6666666666666666,
              "#ed7953"
             ],
             [
              0.7777777777777778,
              "#fb9f3a"
             ],
             [
              0.8888888888888888,
              "#fdca26"
             ],
             [
              1,
              "#f0f921"
             ]
            ],
            "type": "histogram2d"
           }
          ],
          "histogram2dcontour": [
           {
            "colorbar": {
             "outlinewidth": 0,
             "ticks": ""
            },
            "colorscale": [
             [
              0,
              "#0d0887"
             ],
             [
              0.1111111111111111,
              "#46039f"
             ],
             [
              0.2222222222222222,
              "#7201a8"
             ],
             [
              0.3333333333333333,
              "#9c179e"
             ],
             [
              0.4444444444444444,
              "#bd3786"
             ],
             [
              0.5555555555555556,
              "#d8576b"
             ],
             [
              0.6666666666666666,
              "#ed7953"
             ],
             [
              0.7777777777777778,
              "#fb9f3a"
             ],
             [
              0.8888888888888888,
              "#fdca26"
             ],
             [
              1,
              "#f0f921"
             ]
            ],
            "type": "histogram2dcontour"
           }
          ],
          "mesh3d": [
           {
            "colorbar": {
             "outlinewidth": 0,
             "ticks": ""
            },
            "type": "mesh3d"
           }
          ],
          "parcoords": [
           {
            "line": {
             "colorbar": {
              "outlinewidth": 0,
              "ticks": ""
             }
            },
            "type": "parcoords"
           }
          ],
          "pie": [
           {
            "automargin": true,
            "type": "pie"
           }
          ],
          "scatter": [
           {
            "fillpattern": {
             "fillmode": "overlay",
             "size": 10,
             "solidity": 0.2
            },
            "type": "scatter"
           }
          ],
          "scatter3d": [
           {
            "line": {
             "colorbar": {
              "outlinewidth": 0,
              "ticks": ""
             }
            },
            "marker": {
             "colorbar": {
              "outlinewidth": 0,
              "ticks": ""
             }
            },
            "type": "scatter3d"
           }
          ],
          "scattercarpet": [
           {
            "marker": {
             "colorbar": {
              "outlinewidth": 0,
              "ticks": ""
             }
            },
            "type": "scattercarpet"
           }
          ],
          "scattergeo": [
           {
            "marker": {
             "colorbar": {
              "outlinewidth": 0,
              "ticks": ""
             }
            },
            "type": "scattergeo"
           }
          ],
          "scattergl": [
           {
            "marker": {
             "colorbar": {
              "outlinewidth": 0,
              "ticks": ""
             }
            },
            "type": "scattergl"
           }
          ],
          "scattermapbox": [
           {
            "marker": {
             "colorbar": {
              "outlinewidth": 0,
              "ticks": ""
             }
            },
            "type": "scattermapbox"
           }
          ],
          "scatterpolar": [
           {
            "marker": {
             "colorbar": {
              "outlinewidth": 0,
              "ticks": ""
             }
            },
            "type": "scatterpolar"
           }
          ],
          "scatterpolargl": [
           {
            "marker": {
             "colorbar": {
              "outlinewidth": 0,
              "ticks": ""
             }
            },
            "type": "scatterpolargl"
           }
          ],
          "scatterternary": [
           {
            "marker": {
             "colorbar": {
              "outlinewidth": 0,
              "ticks": ""
             }
            },
            "type": "scatterternary"
           }
          ],
          "surface": [
           {
            "colorbar": {
             "outlinewidth": 0,
             "ticks": ""
            },
            "colorscale": [
             [
              0,
              "#0d0887"
             ],
             [
              0.1111111111111111,
              "#46039f"
             ],
             [
              0.2222222222222222,
              "#7201a8"
             ],
             [
              0.3333333333333333,
              "#9c179e"
             ],
             [
              0.4444444444444444,
              "#bd3786"
             ],
             [
              0.5555555555555556,
              "#d8576b"
             ],
             [
              0.6666666666666666,
              "#ed7953"
             ],
             [
              0.7777777777777778,
              "#fb9f3a"
             ],
             [
              0.8888888888888888,
              "#fdca26"
             ],
             [
              1,
              "#f0f921"
             ]
            ],
            "type": "surface"
           }
          ],
          "table": [
           {
            "cells": {
             "fill": {
              "color": "#EBF0F8"
             },
             "line": {
              "color": "white"
             }
            },
            "header": {
             "fill": {
              "color": "#C8D4E3"
             },
             "line": {
              "color": "white"
             }
            },
            "type": "table"
           }
          ]
         },
         "layout": {
          "annotationdefaults": {
           "arrowcolor": "#2a3f5f",
           "arrowhead": 0,
           "arrowwidth": 1
          },
          "autotypenumbers": "strict",
          "coloraxis": {
           "colorbar": {
            "outlinewidth": 0,
            "ticks": ""
           }
          },
          "colorscale": {
           "diverging": [
            [
             0,
             "#8e0152"
            ],
            [
             0.1,
             "#c51b7d"
            ],
            [
             0.2,
             "#de77ae"
            ],
            [
             0.3,
             "#f1b6da"
            ],
            [
             0.4,
             "#fde0ef"
            ],
            [
             0.5,
             "#f7f7f7"
            ],
            [
             0.6,
             "#e6f5d0"
            ],
            [
             0.7,
             "#b8e186"
            ],
            [
             0.8,
             "#7fbc41"
            ],
            [
             0.9,
             "#4d9221"
            ],
            [
             1,
             "#276419"
            ]
           ],
           "sequential": [
            [
             0,
             "#0d0887"
            ],
            [
             0.1111111111111111,
             "#46039f"
            ],
            [
             0.2222222222222222,
             "#7201a8"
            ],
            [
             0.3333333333333333,
             "#9c179e"
            ],
            [
             0.4444444444444444,
             "#bd3786"
            ],
            [
             0.5555555555555556,
             "#d8576b"
            ],
            [
             0.6666666666666666,
             "#ed7953"
            ],
            [
             0.7777777777777778,
             "#fb9f3a"
            ],
            [
             0.8888888888888888,
             "#fdca26"
            ],
            [
             1,
             "#f0f921"
            ]
           ],
           "sequentialminus": [
            [
             0,
             "#0d0887"
            ],
            [
             0.1111111111111111,
             "#46039f"
            ],
            [
             0.2222222222222222,
             "#7201a8"
            ],
            [
             0.3333333333333333,
             "#9c179e"
            ],
            [
             0.4444444444444444,
             "#bd3786"
            ],
            [
             0.5555555555555556,
             "#d8576b"
            ],
            [
             0.6666666666666666,
             "#ed7953"
            ],
            [
             0.7777777777777778,
             "#fb9f3a"
            ],
            [
             0.8888888888888888,
             "#fdca26"
            ],
            [
             1,
             "#f0f921"
            ]
           ]
          },
          "colorway": [
           "#636efa",
           "#EF553B",
           "#00cc96",
           "#ab63fa",
           "#FFA15A",
           "#19d3f3",
           "#FF6692",
           "#B6E880",
           "#FF97FF",
           "#FECB52"
          ],
          "font": {
           "color": "#2a3f5f"
          },
          "geo": {
           "bgcolor": "white",
           "lakecolor": "white",
           "landcolor": "#E5ECF6",
           "showlakes": true,
           "showland": true,
           "subunitcolor": "white"
          },
          "hoverlabel": {
           "align": "left"
          },
          "hovermode": "closest",
          "mapbox": {
           "style": "light"
          },
          "paper_bgcolor": "white",
          "plot_bgcolor": "#E5ECF6",
          "polar": {
           "angularaxis": {
            "gridcolor": "white",
            "linecolor": "white",
            "ticks": ""
           },
           "bgcolor": "#E5ECF6",
           "radialaxis": {
            "gridcolor": "white",
            "linecolor": "white",
            "ticks": ""
           }
          },
          "scene": {
           "xaxis": {
            "backgroundcolor": "#E5ECF6",
            "gridcolor": "white",
            "gridwidth": 2,
            "linecolor": "white",
            "showbackground": true,
            "ticks": "",
            "zerolinecolor": "white"
           },
           "yaxis": {
            "backgroundcolor": "#E5ECF6",
            "gridcolor": "white",
            "gridwidth": 2,
            "linecolor": "white",
            "showbackground": true,
            "ticks": "",
            "zerolinecolor": "white"
           },
           "zaxis": {
            "backgroundcolor": "#E5ECF6",
            "gridcolor": "white",
            "gridwidth": 2,
            "linecolor": "white",
            "showbackground": true,
            "ticks": "",
            "zerolinecolor": "white"
           }
          },
          "shapedefaults": {
           "line": {
            "color": "#2a3f5f"
           }
          },
          "ternary": {
           "aaxis": {
            "gridcolor": "white",
            "linecolor": "white",
            "ticks": ""
           },
           "baxis": {
            "gridcolor": "white",
            "linecolor": "white",
            "ticks": ""
           },
           "bgcolor": "#E5ECF6",
           "caxis": {
            "gridcolor": "white",
            "linecolor": "white",
            "ticks": ""
           }
          },
          "title": {
           "x": 0.05
          },
          "xaxis": {
           "automargin": true,
           "gridcolor": "white",
           "linecolor": "white",
           "ticks": "",
           "title": {
            "standoff": 15
           },
           "zerolinecolor": "white",
           "zerolinewidth": 2
          },
          "yaxis": {
           "automargin": true,
           "gridcolor": "white",
           "linecolor": "white",
           "ticks": "",
           "title": {
            "standoff": 15
           },
           "zerolinecolor": "white",
           "zerolinewidth": 2
          }
         }
        },
        "width": 800,
        "xaxis": {
         "autorange": true,
         "range": [
          0,
          31.63157894736842
         ],
         "showgrid": true,
         "showticklabels": true,
         "tickangle": 0,
         "title": {
          "font": {
           "size": 12
          },
          "standoff": 25
         },
         "type": "linear"
        },
        "yaxis": {
         "autorange": true,
         "linecolor": "black",
         "range": [
          -0.5,
          12.5
         ],
         "showgrid": false,
         "showline": false,
         "type": "category"
        }
       }
      },
      "image/png": "[encoded data removed]",
      "text/html": [
       "<div>                            <div id=\"c771dc00-304e-42f5-a379-9a40b9d02cab\" class=\"plotly-graph-div\" style=\"height:600px; width:800px;\"></div>            <script type=\"text/javascript\">                require([\"plotly\"], function(Plotly) {                    window.PLOTLYENV=window.PLOTLYENV || {};                                    if (document.getElementById(\"c771dc00-304e-42f5-a379-9a40b9d02cab\")) {                    Plotly.newPlot(                        \"c771dc00-304e-42f5-a379-9a40b9d02cab\",                        [{\"marker\":{\"color\":\"#B4BA39\"},\"name\":\"Italia\",\"orientation\":\"h\",\"text\":[\"0.6%\",\"2.3%\",\"3.92%\",\"4.62%\",\"4.65%\",\"5.22%\",\"5.88%\",\"6.3%\",\"7.12%\",\"8.1%\",\"8.22%\",\"13.0%\",\"30.05%\"],\"textposition\":\"auto\",\"x\":[0.6,2.3,3.92,4.62,4.65,5.22,5.88,6.3,7.12,8.1,8.22,13.0,30.05],\"y\":[\"ESTETIZZANTI\",\"ETICISTI\",\"SREGOLATI\",\"LOCALIVORI\",\"ESSENZIALISTI\",\"EDONISTI\",\"ESTEROFILI\",\"Nessuno di questi\",\"INDUSTRIARIANI\",\"SALUBRISTI\",\"RISTORIANI\",\"SALUTISTI\",\"TERRITORIALISTI\"],\"type\":\"bar\"},{\"marker\":{\"color\":\"#DB444B\"},\"name\":\"USA\",\"orientation\":\"h\",\"text\":[\"0.99%\",\"1.09%\",\"1.59%\",\"3.03%\",\"4.17%\",\"6.45%\",\"6.75%\",\"7.25%\",\"8.19%\",\"11.37%\",\"14.4%\",\"14.45%\",\"20.26%\"],\"textposition\":\"auto\",\"x\":[0.99,1.09,1.59,3.03,4.17,6.45,6.75,7.25,8.19,11.37,14.4,14.45,20.26],\"y\":[\"LOCALIVORI\",\"ESTETIZZANTI\",\"ETICISTI\",\"SALUBRISTI\",\"EDONISTI\",\"ESSENZIALISTI\",\"ESTEROFILI\",\"SREGOLATI\",\"Nessuno di questi\",\"TERRITORIALISTI\",\"SALUTISTI\",\"INDUSTRIARIANI\",\"RISTORIANI\"],\"type\":\"bar\"}],                        {\"template\":{\"data\":{\"histogram2dcontour\":[{\"type\":\"histogram2dcontour\",\"colorbar\":{\"outlinewidth\":0,\"ticks\":\"\"},\"colorscale\":[[0.0,\"#0d0887\"],[0.1111111111111111,\"#46039f\"],[0.2222222222222222,\"#7201a8\"],[0.3333333333333333,\"#9c179e\"],[0.4444444444444444,\"#bd3786\"],[0.5555555555555556,\"#d8576b\"],[0.6666666666666666,\"#ed7953\"],[0.7777777777777778,\"#fb9f3a\"],[0.8888888888888888,\"#fdca26\"],[1.0,\"#f0f921\"]]}],\"choropleth\":[{\"type\":\"choropleth\",\"colorbar\":{\"outlinewidth\":0,\"ticks\":\"\"}}],\"histogram2d\":[{\"type\":\"histogram2d\",\"colorbar\":{\"outlinewidth\":0,\"ticks\":\"\"},\"colorscale\":[[0.0,\"#0d0887\"],[0.1111111111111111,\"#46039f\"],[0.2222222222222222,\"#7201a8\"],[0.3333333333333333,\"#9c179e\"],[0.4444444444444444,\"#bd3786\"],[0.5555555555555556,\"#d8576b\"],[0.6666666666666666,\"#ed7953\"],[0.7777777777777778,\"#fb9f3a\"],[0.8888888888888888,\"#fdca26\"],[1.0,\"#f0f921\"]]}],\"heatmap\":[{\"type\":\"heatmap\",\"colorbar\":{\"outlinewidth\":0,\"ticks\":\"\"},\"colorscale\":[[0.0,\"#0d0887\"],[0.1111111111111111,\"#46039f\"],[0.2222222222222222,\"#7201a8\"],[0.3333333333333333,\"#9c179e\"],[0.4444444444444444,\"#bd3786\"],[0.5555555555555556,\"#d8576b\"],[0.6666666666666666,\"#ed7953\"],[0.7777777777777778,\"#fb9f3a\"],[0.8888888888888888,\"#fdca26\"],[1.0,\"#f0f921\"]]}],\"heatmapgl\":[{\"type\":\"heatmapgl\",\"colorbar\":{\"outlinewidth\":0,\"ticks\":\"\"},\"colorscale\":[[0.0,\"#0d0887\"],[0.1111111111111111,\"#46039f\"],[0.2222222222222222,\"#7201a8\"],[0.3333333333333333,\"#9c179e\"],[0.4444444444444444,\"#bd3786\"],[0.5555555555555556,\"#d8576b\"],[0.6666666666666666,\"#ed7953\"],[0.7777777777777778,\"#fb9f3a\"],[0.8888888888888888,\"#fdca26\"],[1.0,\"#f0f921\"]]}],\"contourcarpet\":[{\"type\":\"contourcarpet\",\"colorbar\":{\"outlinewidth\":0,\"ticks\":\"\"}}],\"contour\":[{\"type\":\"contour\",\"colorbar\":{\"outlinewidth\":0,\"ticks\":\"\"},\"colorscale\":[[0.0,\"#0d0887\"],[0.1111111111111111,\"#46039f\"],[0.2222222222222222,\"#7201a8\"],[0.3333333333333333,\"#9c179e\"],[0.4444444444444444,\"#bd3786\"],[0.5555555555555556,\"#d8576b\"],[0.6666666666666666,\"#ed7953\"],[0.7777777777777778,\"#fb9f3a\"],[0.8888888888888888,\"#fdca26\"],[1.0,\"#f0f921\"]]}],\"surface\":[{\"type\":\"surface\",\"colorbar\":{\"outlinewidth\":0,\"ticks\":\"\"},\"colorscale\":[[0.0,\"#0d0887\"],[0.1111111111111111,\"#46039f\"],[0.2222222222222222,\"#7201a8\"],[0.3333333333333333,\"#9c179e\"],[0.4444444444444444,\"#bd3786\"],[0.5555555555555556,\"#d8576b\"],[0.6666666666666666,\"#ed7953\"],[0.7777777777777778,\"#fb9f3a\"],[0.8888888888888888,\"#fdca26\"],[1.0,\"#f0f921\"]]}],\"mesh3d\":[{\"type\":\"mesh3d\",\"colorbar\":{\"outlinewidth\":0,\"ticks\":\"\"}}],\"scatter\":[{\"fillpattern\":{\"fillmode\":\"overlay\",\"size\":10,\"solidity\":0.2},\"type\":\"scatter\"}],\"parcoords\":[{\"type\":\"parcoords\",\"line\":{\"colorbar\":{\"outlinewidth\":0,\"ticks\":\"\"}}}],\"scatterpolargl\":[{\"type\":\"scatterpolargl\",\"marker\":{\"colorbar\":{\"outlinewidth\":0,\"ticks\":\"\"}}}],\"bar\":[{\"error_x\":{\"color\":\"#2a3f5f\"},\"error_y\":{\"color\":\"#2a3f5f\"},\"marker\":{\"line\":{\"color\":\"#E5ECF6\",\"width\":0.5},\"pattern\":{\"fillmode\":\"overlay\",\"size\":10,\"solidity\":0.2}},\"type\":\"bar\"}],\"scattergeo\":[{\"type\":\"scattergeo\",\"marker\":{\"colorbar\":{\"outlinewidth\":0,\"ticks\":\"\"}}}],\"scatterpolar\":[{\"type\":\"scatterpolar\",\"marker\":{\"colorbar\":{\"outlinewidth\":0,\"ticks\":\"\"}}}],\"histogram\":[{\"marker\":{\"pattern\":{\"fillmode\":\"overlay\",\"size\":10,\"solidity\":0.2}},\"type\":\"histogram\"}],\"scattergl\":[{\"type\":\"scattergl\",\"marker\":{\"colorbar\":{\"outlinewidth\":0,\"ticks\":\"\"}}}],\"scatter3d\":[{\"type\":\"scatter3d\",\"line\":{\"colorbar\":{\"outlinewidth\":0,\"ticks\":\"\"}},\"marker\":{\"colorbar\":{\"outlinewidth\":0,\"ticks\":\"\"}}}],\"scattermapbox\":[{\"type\":\"scattermapbox\",\"marker\":{\"colorbar\":{\"outlinewidth\":0,\"ticks\":\"\"}}}],\"scatterternary\":[{\"type\":\"scatterternary\",\"marker\":{\"colorbar\":{\"outlinewidth\":0,\"ticks\":\"\"}}}],\"scattercarpet\":[{\"type\":\"scattercarpet\",\"marker\":{\"colorbar\":{\"outlinewidth\":0,\"ticks\":\"\"}}}],\"carpet\":[{\"aaxis\":{\"endlinecolor\":\"#2a3f5f\",\"gridcolor\":\"white\",\"linecolor\":\"white\",\"minorgridcolor\":\"white\",\"startlinecolor\":\"#2a3f5f\"},\"baxis\":{\"endlinecolor\":\"#2a3f5f\",\"gridcolor\":\"white\",\"linecolor\":\"white\",\"minorgridcolor\":\"white\",\"startlinecolor\":\"#2a3f5f\"},\"type\":\"carpet\"}],\"table\":[{\"cells\":{\"fill\":{\"color\":\"#EBF0F8\"},\"line\":{\"color\":\"white\"}},\"header\":{\"fill\":{\"color\":\"#C8D4E3\"},\"line\":{\"color\":\"white\"}},\"type\":\"table\"}],\"barpolar\":[{\"marker\":{\"line\":{\"color\":\"#E5ECF6\",\"width\":0.5},\"pattern\":{\"fillmode\":\"overlay\",\"size\":10,\"solidity\":0.2}},\"type\":\"barpolar\"}],\"pie\":[{\"automargin\":true,\"type\":\"pie\"}]},\"layout\":{\"autotypenumbers\":\"strict\",\"colorway\":[\"#636efa\",\"#EF553B\",\"#00cc96\",\"#ab63fa\",\"#FFA15A\",\"#19d3f3\",\"#FF6692\",\"#B6E880\",\"#FF97FF\",\"#FECB52\"],\"font\":{\"color\":\"#2a3f5f\"},\"hovermode\":\"closest\",\"hoverlabel\":{\"align\":\"left\"},\"paper_bgcolor\":\"white\",\"plot_bgcolor\":\"#E5ECF6\",\"polar\":{\"bgcolor\":\"#E5ECF6\",\"angularaxis\":{\"gridcolor\":\"white\",\"linecolor\":\"white\",\"ticks\":\"\"},\"radialaxis\":{\"gridcolor\":\"white\",\"linecolor\":\"white\",\"ticks\":\"\"}},\"ternary\":{\"bgcolor\":\"#E5ECF6\",\"aaxis\":{\"gridcolor\":\"white\",\"linecolor\":\"white\",\"ticks\":\"\"},\"baxis\":{\"gridcolor\":\"white\",\"linecolor\":\"white\",\"ticks\":\"\"},\"caxis\":{\"gridcolor\":\"white\",\"linecolor\":\"white\",\"ticks\":\"\"}},\"coloraxis\":{\"colorbar\":{\"outlinewidth\":0,\"ticks\":\"\"}},\"colorscale\":{\"sequential\":[[0.0,\"#0d0887\"],[0.1111111111111111,\"#46039f\"],[0.2222222222222222,\"#7201a8\"],[0.3333333333333333,\"#9c179e\"],[0.4444444444444444,\"#bd3786\"],[0.5555555555555556,\"#d8576b\"],[0.6666666666666666,\"#ed7953\"],[0.7777777777777778,\"#fb9f3a\"],[0.8888888888888888,\"#fdca26\"],[1.0,\"#f0f921\"]],\"sequentialminus\":[[0.0,\"#0d0887\"],[0.1111111111111111,\"#46039f\"],[0.2222222222222222,\"#7201a8\"],[0.3333333333333333,\"#9c179e\"],[0.4444444444444444,\"#bd3786\"],[0.5555555555555556,\"#d8576b\"],[0.6666666666666666,\"#ed7953\"],[0.7777777777777778,\"#fb9f3a\"],[0.8888888888888888,\"#fdca26\"],[1.0,\"#f0f921\"]],\"diverging\":[[0,\"#8e0152\"],[0.1,\"#c51b7d\"],[0.2,\"#de77ae\"],[0.3,\"#f1b6da\"],[0.4,\"#fde0ef\"],[0.5,\"#f7f7f7\"],[0.6,\"#e6f5d0\"],[0.7,\"#b8e186\"],[0.8,\"#7fbc41\"],[0.9,\"#4d9221\"],[1,\"#276419\"]]},\"xaxis\":{\"gridcolor\":\"white\",\"linecolor\":\"white\",\"ticks\":\"\",\"title\":{\"standoff\":15},\"zerolinecolor\":\"white\",\"automargin\":true,\"zerolinewidth\":2},\"yaxis\":{\"gridcolor\":\"white\",\"linecolor\":\"white\",\"ticks\":\"\",\"title\":{\"standoff\":15},\"zerolinecolor\":\"white\",\"automargin\":true,\"zerolinewidth\":2},\"scene\":{\"xaxis\":{\"backgroundcolor\":\"#E5ECF6\",\"gridcolor\":\"white\",\"linecolor\":\"white\",\"showbackground\":true,\"ticks\":\"\",\"zerolinecolor\":\"white\",\"gridwidth\":2},\"yaxis\":{\"backgroundcolor\":\"#E5ECF6\",\"gridcolor\":\"white\",\"linecolor\":\"white\",\"showbackground\":true,\"ticks\":\"\",\"zerolinecolor\":\"white\",\"gridwidth\":2},\"zaxis\":{\"backgroundcolor\":\"#E5ECF6\",\"gridcolor\":\"white\",\"linecolor\":\"white\",\"showbackground\":true,\"ticks\":\"\",\"zerolinecolor\":\"white\",\"gridwidth\":2}},\"shapedefaults\":{\"line\":{\"color\":\"#2a3f5f\"}},\"annotationdefaults\":{\"arrowcolor\":\"#2a3f5f\",\"arrowhead\":0,\"arrowwidth\":1},\"geo\":{\"bgcolor\":\"white\",\"landcolor\":\"#E5ECF6\",\"subunitcolor\":\"white\",\"showland\":true,\"showlakes\":true,\"lakecolor\":\"white\"},\"title\":{\"x\":0.05},\"mapbox\":{\"style\":\"light\"}}},\"xaxis\":{\"title\":{\"font\":{\"size\":12},\"standoff\":25},\"showticklabels\":true,\"showgrid\":true,\"tickangle\":0},\"yaxis\":{\"showgrid\":false,\"showline\":false,\"linecolor\":\"black\"},\"plot_bgcolor\":\"white\",\"showlegend\":true,\"width\":800,\"height\":600},                        {\"responsive\": true}                    ).then(function(){\n",
       "                            \n",
       "var gd = document.getElementById('c771dc00-304e-42f5-a379-9a40b9d02cab');\n",
       "var x = new MutationObserver(function (mutations, observer) {{\n",
       "        var display = window.getComputedStyle(gd).display;\n",
       "        if (!display || display === 'none') {{\n",
       "            console.log([gd, 'removed!']);\n",
       "            Plotly.purge(gd);\n",
       "            observer.disconnect();\n",
       "        }}\n",
       "}});\n",
       "\n",
       "// Listen for the removal of the full notebook cells\n",
       "var notebookContainer = gd.closest('#notebook-container');\n",
       "if (notebookContainer) {{\n",
       "    x.observe(notebookContainer, {childList: true});\n",
       "}}\n",
       "\n",
       "// Listen for the clearing of the current output cell\n",
       "var outputEl = gd.closest('.output');\n",
       "if (outputEl) {{\n",
       "    x.observe(outputEl, {childList: true});\n",
       "}}\n",
       "\n",
       "                        })                };                });            </script>        </div>"
      ]
     },
     "metadata": {},
     "output_type": "display_data"
    }
   ],
   "source": [
    "fig = make_bars_plotly(selected_color_theme, grouped)\n",
    "fig"
   ]
  },
  {
   "cell_type": "code",
   "execution_count": 199,
   "id": "6d91603b-20ec-4a6c-a474-f5d8b78d3513",
   "metadata": {
    "tags": []
   },
   "outputs": [
    {
     "data": {
      "text/plain": [
       "country  q5__4           \n",
       "Italia   Molto aumentato      239\n",
       "         Molto diminuito      272\n",
       "         Uguale              2299\n",
       "         Un po’ aumentato     554\n",
       "         Un po’ diminuito     636\n",
       "USA      Molto aumentato      232\n",
       "         Molto diminuito      136\n",
       "         Uguale              1017\n",
       "         Un po’ aumentato     362\n",
       "         Un po’ diminuito     267\n",
       "Name: country, dtype: int64"
      ]
     },
     "execution_count": 199,
     "metadata": {},
     "output_type": "execute_result"
    }
   ],
   "source": [
    "grouped = df_filtered.groupby(['country', 'q5__4']).country.count()\n",
    "fixed_order = [\n",
    "            \"Molto aumentato\", \"Un po’ aumentato\", \"Uguale\",\n",
    "            \"Un po’ diminuito\", \"Molto diminuito\"\n",
    "        ][::-1]\n",
    "grouped"
   ]
  },
  {
   "cell_type": "code",
   "execution_count": 203,
   "id": "166a2b2b-51ba-4ff8-b2f7-0bbd27d83265",
   "metadata": {
    "tags": []
   },
   "outputs": [
    {
     "data": {
      "text/plain": [
       "(Index(['Molto aumentato', 'Molto diminuito', 'Uguale', 'Un po’ aumentato',\n",
       "        'Un po’ diminuito'],\n",
       "       dtype='object', name='q5__4'),\n",
       " array([0, 1, 2, 3, 4]))"
      ]
     },
     "execution_count": 203,
     "metadata": {},
     "output_type": "execute_result"
    }
   ],
   "source": [
    "grouped.index.levels[1].sort_values(fixed_order)"
   ]
  },
  {
   "cell_type": "code",
   "execution_count": 204,
   "id": "e9d57ef6-12f5-4166-b3ce-d6479a2d3068",
   "metadata": {
    "tags": []
   },
   "outputs": [],
   "source": [
    "# Convert the second level of the MultiIndex to a Categorical type with the specified order\n",
    "grouped.index = grouped.index.set_levels(\n",
    "    pd.Categorical(grouped.index.levels[1], categories=fixed_order, ordered=True),\n",
    "    level=1\n",
    ")\n",
    "\n",
    "# Then you can simply sort the Series\n",
    "grouped_sorted = grouped.sort_index(level=1)\n"
   ]
  },
  {
   "cell_type": "code",
   "execution_count": 206,
   "id": "89126a77-c6ad-47d7-a0e5-53ddfbe29863",
   "metadata": {
    "tags": []
   },
   "outputs": [],
   "source": [
    "color_map = {\n",
    "        'blue': BLUE,\n",
    "        'cyan': CYAN,\n",
    "        'green': GREEN,\n",
    "        'yellow': YELLOW,\n",
    "        'red': RED,\n",
    "        'olive': OLIVE,\n",
    "        'purple': PURPLE,\n",
    "        'gold': GOLD\n",
    "    }"
   ]
  },
  {
   "cell_type": "code",
   "execution_count": 208,
   "id": "22f26e22-c45e-4c1e-993f-1f999eb7fd4a",
   "metadata": {
    "tags": []
   },
   "outputs": [
    {
     "data": {
      "text/plain": [
       "['#006BA2',\n",
       " '#3EBCD2',\n",
       " '#379A8B',\n",
       " '#EBB434',\n",
       " '#DB444B',\n",
       " '#B4BA39',\n",
       " '#9A607F',\n",
       " '#D1B07C']"
      ]
     },
     "execution_count": 208,
     "metadata": {},
     "output_type": "execute_result"
    }
   ],
   "source": [
    "list(color_map.values())"
   ]
  },
  {
   "cell_type": "code",
   "execution_count": null,
   "id": "ff925769-2d52-474e-83ab-5bab9f98bdaa",
   "metadata": {},
   "outputs": [],
   "source": []
  }
 ],
 "metadata": {
  "kernelspec": {
   "display_name": "Python 3 (ipykernel)",
   "language": "python",
   "name": "python3"
  },
  "language_info": {
   "codemirror_mode": {
    "name": "ipython",
    "version": 3
   },
   "file_extension": ".py",
   "mimetype": "text/x-python",
   "name": "python",
   "nbconvert_exporter": "python",
   "pygments_lexer": "ipython3",
   "version": "3.11.0"
  }
 },
 "nbformat": 4,
 "nbformat_minor": 5
}
